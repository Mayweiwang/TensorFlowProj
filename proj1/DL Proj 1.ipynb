{
 "cells": [
  {
   "cell_type": "markdown",
   "metadata": {},
   "source": [
    "## Deep Learning Assignment 1\n",
    "\n",
    "The objective of this assignment is to learn about simple data curation practices, and familiarize you with some of the data we'll be reusing later.\n",
    "This notebook uses the notMNIST dataset to be used with python experiments. This dataset is designed to look like the classic MNIST dataset, while looking a little more like real data: it's a harder task, and the data is a lot less 'clean' than MNIST."
   ]
  },
  {
   "cell_type": "code",
   "execution_count": 1,
   "metadata": {
    "collapsed": false
   },
   "outputs": [
    {
     "name": "stderr",
     "output_type": "stream",
     "text": [
      "/Users/wangwei/anaconda2/lib/python2.7/site-packages/matplotlib/font_manager.py:273: UserWarning: Matplotlib is building the font cache using fc-list. This may take a moment.\n",
      "  warnings.warn('Matplotlib is building the font cache using fc-list. This may take a moment.')\n"
     ]
    }
   ],
   "source": [
    "from __future__ import print_function\n",
    "import matplotlib.pyplot as plt\n",
    "import numpy as np\n",
    "import os\n",
    "import sys\n",
    "import tarfile\n",
    "from IPython.display import display, Image\n",
    "from scipy import ndimage\n",
    "from sklearn.linear_model import LogisticRegression\n",
    "from six.moves.urllib.request import urlretrieve\n",
    "from six.moves import cPickle as pickle\n",
    "%matplotlib inline"
   ]
  },
  {
   "cell_type": "markdown",
   "metadata": {},
   "source": [
    "- train_filename = maybe_download('notMNIST_large.tar.gz',247336696)\n",
    "- train_folders = maybe_extract(train_filename)\n",
    "- train_picklenames = maybe_pickle(train_folders, 45000)\n",
    "- v_dataset, v_labels, tr_dataset, tr_labels = merge_datasets(train_picklenames, train_size, valid_size)\n",
    "- train_dataset, train_labels = randomize(tr_dataset, tr_labels)\n"
   ]
  },
  {
   "cell_type": "markdown",
   "metadata": {},
   "source": [
    "### First, we'll download the dataset to our local machine. \n",
    "The data consists of characters rendered in a variety of fonts on a 28x28 image. The labels are limited to 'A' through 'J' (10 classes). The training set has about 500k and the testset 19000 labelled examples. Given these sizes, it should be possible to train models quickly on any machine.\n"
   ]
  },
  {
   "cell_type": "code",
   "execution_count": 2,
   "metadata": {
    "collapsed": false
   },
   "outputs": [
    {
     "name": "stdout",
     "output_type": "stream",
     "text": [
      "Found and verified notMNIST_large.tar.gz\n",
      "Found and verified notMNIST_small.tar.gz\n"
     ]
    }
   ],
   "source": [
    "# 第一个模块，需要知道的参数是： url， 压缩文件名：notMNIST.tar.gz\n",
    "# 功能是将 url上的gz文件下载下来，下载的地址在哪里，我不知道\n",
    "# 输出的是下载文件名notMNIST.tar.gz，以及下载好的文件\n",
    "url = 'http://commondatastorage.googleapis.com/books1000/'\n",
    "last_percent_reported = None\n",
    "\n",
    "def download_progress_hook(count, blockSize, totalSize):\n",
    "    \"\"\"A hook to report the progress of a download. This is mostly intended for users with\n",
    "  slow internet connections. Reports every 1% change in download progress.\n",
    "  \"\"\"\n",
    "    global last_percent_reported\n",
    "    percent = int(count * blockSize * 100 / totalSize)\n",
    "    \n",
    "    if last_percent_reported != percent:\n",
    "        if percent % 25 == 0:\n",
    "            sys.stdout.write(\"%s%%\" % percent)\n",
    "            sys.stdout.flush()\n",
    "        else:\n",
    "            sys.stdout.write(\".\")\n",
    "            sys.stdout.flush()\n",
    "        \n",
    "        last_percent_reported = percent\n",
    "\n",
    "def maybe_download(filename, expected_bytes, force=False):\n",
    "    \"\"\"Download a file if not present, and make sure it's the right size.\"\"\"\n",
    "    if force or not os.path.exists(filename):\n",
    "        print('Attempting to download:', filename)\n",
    "        filename, _ = urlretrieve(url + filename, filename, reporthook = download_progress_hook)\n",
    "        print('\\nDownload Complete!')\n",
    "    statinfo = os.stat(filename)\n",
    "    if statinfo.st_size == expected_bytes:\n",
    "        print('Found and verified', filename)\n",
    "    else:\n",
    "        raise Exception(\n",
    "            'Failed to verify ' + filename + '. Can you get to it with a browser?')\n",
    "    return filename\n",
    "\n",
    "train_filename = maybe_download('notMNIST_large.tar.gz',247336696)\n",
    "test_filename = maybe_download('notMNIST_small.tar.gz', 8458043)"
   ]
  },
  {
   "cell_type": "markdown",
   "metadata": {},
   "source": [
    "## Then, extract the dataset from the .tar.gz file. \n",
    "This should give you a set of directories, labelled A through J.\n"
   ]
  },
  {
   "cell_type": "code",
   "execution_count": 3,
   "metadata": {
    "collapsed": false
   },
   "outputs": [
    {
     "name": "stdout",
     "output_type": "stream",
     "text": [
      "notMNIST_large already present - Skipping extraction of notMNIST_large.tar.gz.\n",
      "['notMNIST_large/A', 'notMNIST_large/B', 'notMNIST_large/C', 'notMNIST_large/D', 'notMNIST_large/E', 'notMNIST_large/F', 'notMNIST_large/G', 'notMNIST_large/H', 'notMNIST_large/I', 'notMNIST_large/J']\n",
      "notMNIST_small already present - Skipping extraction of notMNIST_small.tar.gz.\n",
      "['notMNIST_small/A', 'notMNIST_small/B', 'notMNIST_small/C', 'notMNIST_small/D', 'notMNIST_small/E', 'notMNIST_small/F', 'notMNIST_small/G', 'notMNIST_small/H', 'notMNIST_small/I', 'notMNIST_small/J']\n"
     ]
    }
   ],
   "source": [
    "# 第二个模块， 需要知道的参数是： 从url下载的压缩文件名\n",
    "# 常数参数是： num_classes, seed\n",
    "# root ： notMNIST_large\n",
    "# 功能是将 gz 文件解压缩，实际上解压缩后的文件夹 notMNIST_large/ 下有10个子文件夹\n",
    "# /A /B... /J\n",
    "# data_folders是将所有子文件夹的路径放在一起, e.g.,[notMNIST_large/A, notMNIST_large/B]\n",
    "# 输出就是子文件夹路径的集合： data_folders\n",
    "num_classes = 10\n",
    "np.random.seed(133)\n",
    "\n",
    "def maybe_extract(filename, force = False):\n",
    "    # remove .tar.gz\n",
    "    root = os.path.splitext(os.path.splitext(filename)[0])[0]\n",
    "    if os.path.isdir(root) and not force:\n",
    "        # You may override by setting force=True\n",
    "        print(\"%s already present - Skipping extraction of %s.\" \n",
    "              % (root, filename))\n",
    "    else:\n",
    "        print('Extracting data for %s. This may take a while. Please wait.'\n",
    "              % root)\n",
    "        tar = tarfile.open(filename)\n",
    "        sys.stdout.flush()\n",
    "        tar.extractall()\n",
    "        tar.close()\n",
    "    data_folders = [\n",
    "        os.path.join(root, d) for d in sorted(os.listdir(root))\n",
    "        if os.path.isdir(os.path.join(root, d))]\n",
    "    if len(data_folders) != num_classes:\n",
    "        raise Exception(\n",
    "           'Expected %d folders, one per class. Found %d instead.' \n",
    "            %(num_class, len(data_folders)))\n",
    "    print(data_folders)\n",
    "    return data_folders\n",
    "\n",
    "train_folders = maybe_extract(train_filename)\n",
    "test_folders = maybe_extract(test_filename)"
   ]
  },
  {
   "cell_type": "markdown",
   "metadata": {},
   "source": [
    "## Problem 1\n",
    "Let's take a peek at some of the data to make sure it looks sensible. Each exemplar should be an image of a character A through J rendered in a different font. Display a sample of the images that we just downloaded. Hint: you can use the package IPython.display."
   ]
  },
  {
   "cell_type": "code",
   "execution_count": 4,
   "metadata": {
    "collapsed": false
   },
   "outputs": [
    {
     "name": "stdout",
     "output_type": "stream",
     "text": [
      "a29ydW5pc2hpLnR0Zg==.png\n"
     ]
    },
    {
     "data": {
      "image/png": "[encoded data removed]",
      "text/plain": [
       "<IPython.core.display.Image object>"
      ]
     },
     "metadata": {},
     "output_type": "display_data"
    },
    {
     "data": {
      "image/png": "[encoded data removed]",
      "text/plain": [
       "<IPython.core.display.Image object>"
      ]
     },
     "metadata": {},
     "output_type": "display_data"
    },
    {
     "data": {
      "image/png": "[encoded data removed]",
      "text/plain": [
       "<IPython.core.display.Image object>"
      ]
     },
     "metadata": {},
     "output_type": "display_data"
    },
    {
     "data": {
      "image/png": "[encoded data removed]",
      "text/plain": [
       "<IPython.core.display.Image object>"
      ]
     },
     "metadata": {},
     "output_type": "display_data"
    },
    {
     "data": {
      "image/png": "[encoded data removed]",
      "text/plain": [
       "<IPython.core.display.Image object>"
      ]
     },
     "metadata": {},
     "output_type": "display_data"
    },
    {
     "data": {
      "image/png": "[encoded data removed]",
      "text/plain": [
       "<IPython.core.display.Image object>"
      ]
     },
     "metadata": {},
     "output_type": "display_data"
    },
    {
     "data": {
      "image/png": "[encoded data removed]",
      "text/plain": [
       "<IPython.core.display.Image object>"
      ]
     },
     "metadata": {},
     "output_type": "display_data"
    },
    {
     "data": {
      "image/png": "[encoded data removed]",
      "text/plain": [
       "<IPython.core.display.Image object>"
      ]
     },
     "metadata": {},
     "output_type": "display_data"
    },
    {
     "data": {
      "image/png": "[encoded data removed]",
      "text/plain": [
       "<IPython.core.display.Image object>"
      ]
     },
     "metadata": {},
     "output_type": "display_data"
    },
    {
     "data": {
      "image/png": "[encoded data removed]",
      "text/plain": [
       "<IPython.core.display.Image object>"
      ]
     },
     "metadata": {},
     "output_type": "display_data"
    }
   ],
   "source": [
    "root = 'notMNIST_large/A'\n",
    "print(os.listdir(root)[0])\n",
    "image_names = [\n",
    "        os.path.join(root, d) for d in os.listdir(root)]\n",
    "for imageName in image_names[:10]:\n",
    "    display(Image(filename=imageName))"
   ]
  },
  {
   "cell_type": "markdown",
   "metadata": {},
   "source": [
    "Now let's load the data in a more manageable format. Since, depending on your computer setup you might not be able to fit it all in memory, \n",
    "- we'll load each class into a separate dataset, \n",
    "- store them on disk and curate them independently,\n",
    "- later we'll merge them into a single dataset of manageable size.\n",
    "We'll convert the entire dataset into a 3D array (image index, x, y) of floating point values, normalized to have approximately zero mean and standard deviation ~0.5 to make training easier down the road.\n",
    "A few images might not be readable, we'll just skip them."
   ]
  },
  {
   "cell_type": "code",
   "execution_count": 5,
   "metadata": {
    "collapsed": false
   },
   "outputs": [
    {
     "name": "stdout",
     "output_type": "stream",
     "text": [
      "notMNIST_large/A.pickle already present - Skipping pickling.\n",
      "notMNIST_large/B.pickle already present - Skipping pickling.\n",
      "notMNIST_large/C.pickle already present - Skipping pickling.\n",
      "notMNIST_large/D.pickle already present - Skipping pickling.\n",
      "notMNIST_large/E.pickle already present - Skipping pickling.\n",
      "notMNIST_large/F.pickle already present - Skipping pickling.\n",
      "notMNIST_large/G.pickle already present - Skipping pickling.\n",
      "notMNIST_large/H.pickle already present - Skipping pickling.\n",
      "notMNIST_large/I.pickle already present - Skipping pickling.\n",
      "notMNIST_large/J.pickle already present - Skipping pickling.\n",
      "notMNIST_small/A.pickle already present - Skipping pickling.\n",
      "notMNIST_small/B.pickle already present - Skipping pickling.\n",
      "notMNIST_small/C.pickle already present - Skipping pickling.\n",
      "notMNIST_small/D.pickle already present - Skipping pickling.\n",
      "notMNIST_small/E.pickle already present - Skipping pickling.\n",
      "notMNIST_small/F.pickle already present - Skipping pickling.\n",
      "notMNIST_small/G.pickle already present - Skipping pickling.\n",
      "notMNIST_small/H.pickle already present - Skipping pickling.\n",
      "notMNIST_small/I.pickle already present - Skipping pickling.\n",
      "notMNIST_small/J.pickle already present - Skipping pickling.\n"
     ]
    }
   ],
   "source": [
    "# 第三个模块，需要的参数是：data_folders\n",
    "# 常数参数： image_size, pixel_depth\n",
    "# 功能是将每一个子文件夹的image都转化为文件保存在磁盘上一个新文件，比如 \n",
    "#       notMNIST_large/A.pickle,\n",
    "# 调用一个子模块：load_letter，功能是 读入一个子文件夹里面num_images 个image files\n",
    "# 比如 notMNIST_large/A\n",
    "# 输出是一个 3维矩阵 dataset,size 是num_images * 28 * 28\n",
    "# 第三个模块会把dataset 进行持久化，用 pickle 函数\n",
    "# 这个模块的输出是dataset_names : 所有子文件夹新的picklename的集合，比如\n",
    "# [notMNIST_large/A.pickle, notMNIST_large/B.pickle,...]\n",
    "image_size = 28  # Pixel width and height.\n",
    "pixel_depth = 255.0  # Number of levels per pixel.\n",
    "\n",
    "def load_letter(folder, min_num_images):\n",
    "    \"\"\"Load the data for a single letter label.\"\"\"\n",
    "    image_files = os.listdir(folder)\n",
    "    dataset = np.ndarray(shape=(len(image_files), image_size, image_size),\n",
    "                         dtype=np.float32)\n",
    "    print(folder)\n",
    "    num_images = 0\n",
    "    for image in image_files:\n",
    "        image_file = os.path.join(folder, image)\n",
    "        try:\n",
    "            image_data = (ndimage.imread(image_file).astype(float) - \n",
    "                    pixel_depth / 2) / pixel_depth\n",
    "            if image_data.shape != (image_size, image_size):\n",
    "                raise Exception('Unexpected image shape: %s' % str(image_data.shape))\n",
    "            dataset[num_images, :, :] = image_data\n",
    "            num_images = num_images + 1\n",
    "        except IOError as e:\n",
    "            print('Could not read:', image_file, ':', e, '- it\\'s ok, skipping.')\n",
    "    \n",
    "    dataset = dataset[0:num_images, :, :]\n",
    "    if num_images < min_num_images:\n",
    "        raise Exception('Many fewer images than expected: %d < %d' %\n",
    "                    (num_images, min_num_images))\n",
    "    \n",
    "    print('Full dataset tensor:', dataset.shape)\n",
    "    print('Mean:', np.mean(dataset))\n",
    "    print('Standard deviation:', np.std(dataset))\n",
    "    return dataset\n",
    "        \n",
    "def maybe_pickle(data_folders, min_num_images_per_class, force=False):  \n",
    "    dataset_names = []\n",
    "    for folder in data_folders:\n",
    "        set_filename = folder + '.pickle'\n",
    "        dataset_names.append(set_filename)\n",
    "        if os.path.exists(set_filename) and not force:\n",
    "            print('%s already present - Skipping pickling.' % set_filename)\n",
    "        else:\n",
    "            print('Pickling %s.' % set_filename)\n",
    "            dataset = load_letter(folder, min_num_images_per_class)\n",
    "            try:\n",
    "                with open(set_filename, 'wb') as f:\n",
    "                    pickle.dump(dataset, f, pickle.HIGHEST_PROTOCOL)\n",
    "            except Exception as e:\n",
    "                print('Unable to save data to', set_filename, ':', e)\n",
    "    return dataset_names\n",
    "\n",
    "train_picklenames = maybe_pickle(train_folders, 45000)\n",
    "test_picklenames = maybe_pickle(test_folders, 1800)"
   ]
  },
  {
   "cell_type": "markdown",
   "metadata": {
    "collapsed": true
   },
   "source": [
    "## Problem 2\n",
    "Let's verify that the data still looks good. Displaying a sample of the labels and images from the ndarray. Hint: you can use matplotlib.pyplot."
   ]
  },
  {
   "cell_type": "code",
   "execution_count": 6,
   "metadata": {
    "collapsed": false
   },
   "outputs": [
    {
     "name": "stdout",
     "output_type": "stream",
     "text": [
      "The shape of each pickle file is : (52912, 28, 28)\n"
     ]
    },
    {
     "data": {
      "text/plain": [
       "<matplotlib.image.AxesImage at 0x112310910>"
      ]
     },
     "execution_count": 6,
     "metadata": {},
     "output_type": "execute_result"
    },
    {
     "data": {
      "image/png": "[encoded data removed]",
      "text/plain": [
       "<matplotlib.figure.Figure at 0x111ff08d0>"
      ]
     },
     "metadata": {},
     "output_type": "display_data"
    }
   ],
   "source": [
    "# load one pickle and check what we can find\n",
    "obj2 = pickle.load(open('notMNIST_large/C.pickle', 'r'))\n",
    "print('The shape of each pickle file is :', obj2.shape)\n",
    "sampleBimage = obj2[1111]\n",
    "plt.imshow(sampleBimage)"
   ]
  },
  {
   "cell_type": "markdown",
   "metadata": {
    "collapsed": true
   },
   "source": [
    "## Problem 3\n",
    "Another check: we expect the data to be balanced across classes. Verify that.\n",
    "__________________________________________________________________"
   ]
  },
  {
   "cell_type": "code",
   "execution_count": 7,
   "metadata": {
    "collapsed": false
   },
   "outputs": [
    {
     "name": "stdout",
     "output_type": "stream",
     "text": [
      "The num of images in notMNIST_large/A.pickle is : 52909\n",
      "The num of images in notMNIST_large/B.pickle is : 52911\n",
      "The num of images in notMNIST_large/C.pickle is : 52912\n",
      "The num of images in notMNIST_large/D.pickle is : 52911\n",
      "The num of images in notMNIST_large/E.pickle is : 52912\n",
      "The num of images in notMNIST_large/F.pickle is : 52912\n",
      "The num of images in notMNIST_large/G.pickle is : 52912\n",
      "The num of images in notMNIST_large/H.pickle is : 52912\n",
      "The num of images in notMNIST_large/I.pickle is : 52912\n",
      "The num of images in notMNIST_large/J.pickle is : 52911\n",
      "The std of the num of images is  0.916515138991 .\n",
      "The num of images in notMNIST_small/A.pickle is : 1872\n",
      "The num of images in notMNIST_small/B.pickle is : 1873\n",
      "The num of images in notMNIST_small/C.pickle is : 1873\n",
      "The num of images in notMNIST_small/D.pickle is : 1873\n",
      "The num of images in notMNIST_small/E.pickle is : 1873\n",
      "The num of images in notMNIST_small/F.pickle is : 1872\n",
      "The num of images in notMNIST_small/G.pickle is : 1872\n",
      "The num of images in notMNIST_small/H.pickle is : 1872\n",
      "The num of images in notMNIST_small/I.pickle is : 1872\n",
      "The num of images in notMNIST_small/J.pickle is : 1872\n"
     ]
    }
   ],
   "source": [
    "a = np.zeros(10)\n",
    "\n",
    "for label, picklename in enumerate(train_picklenames):\n",
    "    obj2 = pickle.load(open(picklename, 'r'))\n",
    "    print('The num of images in %s is : %d' % (picklename, obj2.shape[0]) )\n",
    "    a[label]=obj2.shape[0]\n",
    "\n",
    "print('The std of the num of images is ', np.std(a),'.')\n",
    "\n",
    "for label, picklename in enumerate(test_picklenames):\n",
    "    obj2 = pickle.load(open(picklename, 'r'))\n",
    "    print('The num of images in %s is : %d' % (picklename, obj2.shape[0]) )\n",
    "    a[label]=obj2.shape[0]"
   ]
  },
  {
   "cell_type": "markdown",
   "metadata": {},
   "source": [
    "Merge and prune the training data as needed. Depending on your computer setup, you might not be able to fit it all in memory, and you can tune train_size as needed. The labels will be stored into a separate array of integers 0 through 9.\n",
    "Also create a validation dataset for hyperparameter tuning.\n"
   ]
  },
  {
   "cell_type": "code",
   "execution_count": 8,
   "metadata": {
    "collapsed": false
   },
   "outputs": [
    {
     "name": "stdout",
     "output_type": "stream",
     "text": [
      "Training: (200000, 28, 28) (200000,)\n",
      "Validation: (10000, 28, 28) (10000,)\n",
      "Testing: (10000, 28, 28) (10000,)\n"
     ]
    }
   ],
   "source": [
    "# 初始化一个array， size是 nrows * img_size * img_size\n",
    "def make_array(nb_rows, img_size):\n",
    "    labels = None\n",
    "    if nb_rows:\n",
    "        dataset = np.ndarray((nb_rows,img_size, img_size), dtype = np.float32)\n",
    "        labels = np.ndarray(nb_rows,dtype=np.int32)\n",
    "    else:\n",
    "        dataset = None\n",
    "    return dataset, labels\n",
    "# 第四个模块，输入参数是 pickle_files, train/test数据集的行数， valids数据集的行数\n",
    "# 功能是：从每一个pickle file重新读出 行数*28*28 的image集合，shuffle一下，\n",
    "#        给到training 或者validation，\n",
    "# 输出：train_dataset, train_label, valid_dataset, valid_label\n",
    "# 注意： 此时的lable都是 [00000...11111....22222]\n",
    "def merge_datasets(pickle_files, train_size, valid_size):\n",
    "    num_classes = len(pickle_files)\n",
    "    valid_dataset, valid_labels = make_array(valid_size,image_size)\n",
    "    train_dataset, train_labels = make_array(train_size,image_size)\n",
    "    vsize_per_class = valid_size // num_classes\n",
    "    tsize_per_class = train_size // num_classes\n",
    "    \n",
    "    start_v, start_t = 0, 0\n",
    "    end_v, end_t = vsize_per_class, tsize_per_class\n",
    "    end_l = vsize_per_class + tsize_per_class\n",
    "\n",
    "    for label, pickle_file in enumerate(pickle_files):\n",
    "        try:\n",
    "            with open(pickle_file,'rb') as f:\n",
    "                letter_set = pickle.load(f)\n",
    "                np.random.shuffle(letter_set)\n",
    "                if valid_dataset is not None:\n",
    "                    valid_letter = letter_set[:vsize_per_class,:,:]\n",
    "                    valid_dataset[start_v:end_v, :, :] = valid_letter\n",
    "                    valid_labels[start_v:end_v] = label\n",
    "                    start_v += vsize_per_class\n",
    "                    end_v += vsize_per_class\n",
    "                \n",
    "                train_letter = letter_set[vsize_per_class:end_l, :, :]\n",
    "                train_dataset[start_t:end_t, :,:] = train_letter\n",
    "                train_labels[start_t:end_t] = label\n",
    "                start_t += tsize_per_class\n",
    "                end_t += tsize_per_class\n",
    "        except Exception as e:\n",
    "            print('Unable to process data from', pickle_file, ':', e)\n",
    "            raise\n",
    "    return valid_dataset, valid_labels, train_dataset, train_labels\n",
    "\n",
    "\n",
    "    \n",
    "train_size = 200000\n",
    "valid_size = 10000\n",
    "test_size = 10000\n",
    "\n",
    "v_set, v_labels, tr_set, tr_labels = merge_datasets(train_picklenames, train_size, valid_size)\n",
    "_, _, te_set, te_labels = merge_datasets(test_picklenames, test_size, False)\n",
    "\n",
    "print('Training:', tr_set.shape, tr_labels.shape)\n",
    "print('Validation:', v_set.shape, v_labels.shape)\n",
    "print('Testing:', te_set.shape, te_labels.shape)\n"
   ]
  },
  {
   "cell_type": "markdown",
   "metadata": {},
   "source": [
    "Next, we'll randomize the data. It's important to have the labels well shuffled for the training and test distributions to match.\n"
   ]
  },
  {
   "cell_type": "code",
   "execution_count": 9,
   "metadata": {
    "collapsed": false
   },
   "outputs": [],
   "source": [
    "def randomize(dataset,labels):\n",
    "    #np.random.permutation(9): array([0, 7, 3, 2, 6, 8, 1, 4, 5])\n",
    "    permutation = np.random.permutation(labels.shape[0])\n",
    "    shuffled_dataset = dataset[permutation,:,:]\n",
    "    shuffled_labels = labels[permutation]\n",
    "    return shuffled_dataset, shuffled_labels\n",
    "\n",
    "train_dataset, train_labels = randomize(tr_set, tr_labels)\n",
    "test_dataset, test_labels = randomize(te_set, te_labels)\n",
    "valid_dataset, valid_labels = randomize(v_set, v_labels)\n"
   ]
  },
  {
   "cell_type": "code",
   "execution_count": 10,
   "metadata": {
    "collapsed": false
   },
   "outputs": [
    {
     "name": "stdout",
     "output_type": "stream",
     "text": [
      "Compressed pickle size: 690798592\n"
     ]
    }
   ],
   "source": [
    "# Finally, let's save the originaldata for later reuse:\n",
    "pickle_file = 'notMNIST_original.pickle'\n",
    "\n",
    "try:\n",
    "    f = open(pickle_file,'wb')\n",
    "    save = {\n",
    "        'train_dataset': train_dataset,\n",
    "        'train_labels': train_labels,\n",
    "        'valid_dataset': valid_dataset,\n",
    "        'valid_labels': valid_labels,\n",
    "        'test_dataset': test_dataset,\n",
    "        'test_labels': test_labels,\n",
    "    }\n",
    "    pickle.dump(save, f, pickle.HIGHEST_PROTOCOL)\n",
    "    del save  # hint to help gc free up memory\n",
    "except Exception as e:\n",
    "    print('Unable to save data to', pickle_file, \":\", e)\n",
    "    raise\n",
    "    \n",
    "statinfo = os.stat(pickle_file)\n",
    "print('Compressed pickle size:', statinfo.st_size)\n",
    "    "
   ]
  },
  {
   "cell_type": "markdown",
   "metadata": {},
   "source": [
    "## Problem 4\n",
    "Convince yourself that the data is still good after shuffling!"
   ]
  },
  {
   "cell_type": "code",
   "execution_count": 203,
   "metadata": {
    "collapsed": false
   },
   "outputs": [
    {
     "data": {
      "text/plain": [
       "array([9, 3, 6, ..., 3, 6, 4], dtype=int32)"
      ]
     },
     "execution_count": 203,
     "metadata": {},
     "output_type": "execute_result"
    },
    {
     "data": {
      "image/png": "[encoded data removed]",
      "text/plain": [
       "<matplotlib.figure.Figure at 0x112ce9490>"
      ]
     },
     "metadata": {},
     "output_type": "display_data"
    }
   ],
   "source": [
    "plt.imshow(train_dataset[38,:,:])\n",
    "train_labels"
   ]
  },
  {
   "cell_type": "markdown",
   "metadata": {},
   "source": [
    "## Problem 5\n",
    "By construction, this dataset might contain a lot of overlapping samples, including training data that's also contained in the validation and test set! Overlap between training and test can skew the results if you expect to use your model in an environment where there is never an overlap, but are actually ok if you expect to see training samples recur when you use it. \n",
    "\n",
    "- Measure how much overlap there is between training, validation and test samples.\n",
    "Optional questions:\n",
    "- What about near duplicates between datasets? (images that are almost identical)\n",
    "- Create a sanitized validation and test set, and compare your accuracy on those in subsequent assignments."
   ]
  },
  {
   "cell_type": "code",
   "execution_count": 154,
   "metadata": {
    "collapsed": false
   },
   "outputs": [
    {
     "name": "stdout",
     "output_type": "stream",
     "text": [
      "\n",
      "Method 1: hash and check equality\n",
      "train dups: 12783, test_dups: 142, valid_dups: 128\n",
      "train/valid overlaps: 1067, of which 39 have different labels\n",
      "test/train overlaps: 7324, of which 288 have different labels\n",
      "valid/test overlaps: 349, of which 10 have different labels\n",
      "Time: 2.06s\n",
      "\n",
      "Method 2: hash and set\n",
      "fast train/validation overlaps: 953 \n",
      "fast train/test overlaps: 4293\n",
      "fast test/validation overlaps: 230\n",
      "Time: 2.00s\n",
      "\n",
      "Method 3: hashlib and set\n",
      "inter_tr_v =  953\n",
      "inter_tr_t =  4293\n",
      "inter_v_t =  230\n",
      "Time: 1.25s\n",
      "\n",
      "Method 4: hashlib and numpy\n",
      "valid -> train overlap: 1067 samples\n",
      "test  -> train overlap: 4426 samples\n",
      "test  -> valid overlap: 349 samples\n",
      "inter_tr_v =  3627\n",
      "inter_tr_t =  7324\n",
      "inter_v_t =  336\n",
      "Time: 1.43s\n"
     ]
    }
   ],
   "source": [
    "import time\n",
    "def fast_overlaps_num_set_and_hash(images1, images2):\n",
    "    images1.flags.writeable=False\n",
    "    images2.flags.writeable=False\n",
    "    hash1 = set([hash(image1.data) for image1 in images1])\n",
    "    hash2 = set([hash(image2.data) for image2 in images2])\n",
    "    all_overlaps = set.intersection(hash1, hash2)\n",
    "    return len(all_overlaps)\n",
    "def find_dups_and_overlaps(images1, images2):\n",
    "    images1.flags.writeable=False\n",
    "    images2.flags.writeable=False\n",
    "    dup_table={}\n",
    "    duplicates1 = []\n",
    "    for idx,img in enumerate(images1):\n",
    "        h = hash(img.data)\n",
    "        if h in dup_table and (images1[dup_table[h]].data == img.data):\n",
    "            duplicates1.append((idx, dup_table[h]))\n",
    "            #print 'Duplicate image: %d matches %d' % (idx, dup_table[h])\n",
    "        dup_table[h] = idx\n",
    "    overlaps = []\n",
    "    for idx,img in enumerate(images2):\n",
    "        h = hash(img.data)\n",
    "        if h in dup_table and (images1[dup_table[h]].data == img.data):\n",
    "            overlaps.append((dup_table[h], idx))\n",
    "            #print 'Test image %d is in the training set' % idx\n",
    "    return duplicates1, overlaps\n",
    "def num_overlaps_with_diff_labels(overlap_indices, labels1, labels2):\n",
    "    count = 0\n",
    "    for olap in overlap_indices:\n",
    "        if labels1[olap[0]] != labels2[olap[1]]:\n",
    "            count += 1\n",
    "    return count\n",
    "def hashlib_set():\n",
    "    train_dataset_map, valid_dataset_map, test_dataset_map = set(), set(), set()\n",
    "\n",
    "    for img_data in train_dataset:\n",
    "        train_dataset_map.add(sha1(img_data).hexdigest())\n",
    "    for img_data in valid_dataset:\n",
    "        valid_dataset_map.add(sha1(img_data).hexdigest())\n",
    "    for img_data in test_dataset:\n",
    "        test_dataset_map.add(sha1(img_data).hexdigest())\n",
    "\n",
    "    inter_tr_v = train_dataset_map.intersection(valid_dataset_map)\n",
    "    inter_tr_t = train_dataset_map.intersection(test_dataset_map)\n",
    "    inter_v_t = valid_dataset_map.intersection(test_dataset_map)\n",
    "\n",
    "    print(\"inter_tr_v = \", len(inter_tr_v))\n",
    "    print(\"inter_tr_t = \", len(inter_tr_t))\n",
    "    print(\"inter_v_t = \", len(inter_v_t))\n",
    "def faster_overlaps_hashlib_and_numpy():\n",
    "    import hashlib\n",
    "    train_hashes = [hashlib.sha1(x).digest() for x in train_dataset]\n",
    "    valid_hashes = [hashlib.sha1(x).digest() for x in valid_dataset]\n",
    "    test_hashes  = [hashlib.sha1(x).digest() for x in test_dataset]\n",
    "\n",
    "    valid_in_train = np.in1d(valid_hashes, train_hashes)\n",
    "    test_in_train  = np.in1d(test_hashes,  train_hashes)\n",
    "    test_in_valid  = np.in1d(test_hashes,  valid_hashes)\n",
    "    \n",
    "    train_in_valid = np.in1d(train_hashes, valid_hashes)\n",
    "    train_in_test  = np.in1d(train_hashes,test_hashes)\n",
    "    valid_in_test  = np.in1d(valid_hashes,test_hashes)\n",
    "\n",
    "    valid_keep = ~valid_in_train\n",
    "    test_keep  = ~(test_in_train | test_in_valid)\n",
    "\n",
    "    valid_dataset_clean = valid_dataset[valid_keep]\n",
    "    valid_labels_clean  = valid_labels [valid_keep]\n",
    "\n",
    "    test_dataset_clean = test_dataset[test_keep]\n",
    "    test_labels_clean  = test_labels [test_keep]\n",
    "\n",
    "    print(\"valid -> train overlap: %d samples\" % valid_in_train.sum())\n",
    "    print(\"test  -> train overlap: %d samples\" % test_in_train.sum())\n",
    "    print(\"test  -> valid overlap: %d samples\" % test_in_valid.sum())\n",
    "    \n",
    "    print(\"inter_tr_v = \" , train_in_valid.sum())\n",
    "    print(\"inter_tr_t = \" , train_in_test.sum())\n",
    "    print(\"inter_v_t = \" , valid_in_test.sum())\n",
    "\n",
    "print('\\nMethod 1: hash and check equality')\n",
    "t1 = time.time()\n",
    "train_dups, train_valid_overlaps = find_dups_and_overlaps(train_dataset, valid_dataset)\n",
    "test_dups, test_train_overlaps = find_dups_and_overlaps(test_dataset, train_dataset)\n",
    "valid_dups, valid_test_overlaps = find_dups_and_overlaps(valid_dataset, test_dataset)\n",
    "print('train dups: %s, test_dups: %s, valid_dups: %s' % (len(train_dups), len(test_dups), len(valid_dups)))\n",
    "print('train/valid overlaps: %s, of which %s have different labels' % \\\n",
    "       (len(train_valid_overlaps), num_overlaps_with_diff_labels(train_valid_overlaps, train_labels, valid_labels)))\n",
    "print('test/train overlaps: %s, of which %s have different labels' % \\\n",
    "        (len(test_train_overlaps), num_overlaps_with_diff_labels(test_train_overlaps, test_labels, train_labels)))\n",
    "print('valid/test overlaps: %s, of which %s have different labels' % \\\n",
    "        (len(valid_test_overlaps), num_overlaps_with_diff_labels(valid_test_overlaps, valid_labels, test_labels)))\n",
    "t2 = time.time()\n",
    "print(\"Time: %0.2fs\" % (t2 - t1))\n",
    "\n",
    "print('\\nMethod 2: hash and set')\n",
    "t1 = time.time()\n",
    "print('fast train/validation overlaps: %s ' % fast_overlaps_num_set_and_hash(train_dataset, valid_dataset))\n",
    "print('fast train/test overlaps: %s' % fast_overlaps_num_set_and_hash(train_dataset, test_dataset))\n",
    "print('fast test/validation overlaps: %s' % fast_overlaps_num_set_and_hash(test_dataset, valid_dataset))\n",
    "t2 = time.time()\n",
    "print(\"Time: %0.2fs\" % (t2 - t1))\n",
    "\n",
    "print('\\nMethod 3: hashlib and set')\n",
    "t1 = time.time()\n",
    "hashlib_set()\n",
    "t2 = time.time()\n",
    "print(\"Time: %0.2fs\" % (t2 - t1))\n",
    "print('\\nMethod 4: hashlib and numpy')\n",
    "t1 = time.time()\n",
    "faster_overlaps_hashlib_and_numpy()\n",
    "t2 = time.time()\n",
    "print(\"Time: %0.2fs\" % (t2 - t1))"
   ]
  },
  {
   "cell_type": "code",
   "execution_count": 11,
   "metadata": {
    "collapsed": false
   },
   "outputs": [
    {
     "name": "stdout",
     "output_type": "stream",
     "text": [
      "valid -> train overlap: 1067 samples\n",
      "test  -> train overlap: 1324 samples\n",
      "test  -> valid overlap: 200 samples\n",
      "Training set (200000, 28, 28) (200000,)\n",
      "Validation set (8933, 28, 28) (8933,)\n",
      "Test set (8639, 28, 28) (8639,)\n"
     ]
    }
   ],
   "source": [
    "def hashlib_and_numpy():\n",
    "    import hashlib\n",
    "    train_hashes = [hashlib.sha1(x).digest() for x in train_dataset]\n",
    "    valid_hashes = [hashlib.sha1(x).digest() for x in valid_dataset]\n",
    "    test_hashes  = [hashlib.sha1(x).digest() for x in test_dataset]\n",
    "\n",
    "    valid_in_train = np.in1d(valid_hashes, train_hashes)\n",
    "    test_in_train  = np.in1d(test_hashes,  train_hashes)\n",
    "    test_in_valid  = np.in1d(test_hashes,  valid_hashes)\n",
    "\n",
    "    valid_keep = ~valid_in_train\n",
    "    test_keep  = ~(test_in_train | test_in_valid)\n",
    "\n",
    "    valid_dataset_clean = valid_dataset[valid_keep]\n",
    "    valid_labels_clean  = np.squeeze(valid_labels [valid_keep])\n",
    "\n",
    "    test_dataset_clean = test_dataset[test_keep]\n",
    "    test_labels_clean  = np.squeeze(test_labels [test_keep])\n",
    "\n",
    "    print(\"valid -> train overlap: %d samples\" % valid_in_train.sum())\n",
    "    print(\"test  -> train overlap: %d samples\" % test_in_train.sum())\n",
    "    print(\"test  -> valid overlap: %d samples\" % test_in_valid.sum())\n",
    "    \n",
    "    return valid_dataset_clean, valid_labels_clean, test_dataset_clean, test_labels_clean\n",
    "valid_dataset, valid_labels, test_dataset, test_labels=hashlib_and_numpy()\n",
    "print('Training set', train_dataset.shape, train_labels.shape)\n",
    "print('Validation set', valid_dataset.shape, valid_labels.shape)\n",
    "print('Test set', test_dataset.shape, test_labels.shape)"
   ]
  },
  {
   "cell_type": "code",
   "execution_count": 191,
   "metadata": {
    "collapsed": false
   },
   "outputs": [
    {
     "name": "stdout",
     "output_type": "stream",
     "text": [
      "duplicates are : 8\n",
      "duplicates are : 12783\n",
      "duplicates are : 14\n"
     ]
    }
   ],
   "source": [
    "def remove_dups_in1set(images,labels):\n",
    "    images.flags.writeable=False\n",
    "    dup_table={}\n",
    "    keep = []\n",
    "    for idx,img in enumerate(images):\n",
    "        h = hash(img.data)\n",
    "        if h in dup_table and (images[dup_table[h]].data == img.data):\n",
    "            keep.append(False)\n",
    "        else:\n",
    "            dup_table[h] = idx\n",
    "            keep.append(True)\n",
    "    keep = np.asarray(keep)\n",
    "\n",
    "    images_keep = images[keep]\n",
    "    labels_keep = np.squeeze(labels[keep])\n",
    "    print('duplicates are :',images.shape[0]-images_keep.shape[0])\n",
    "    return images_keep, labels_keep\n",
    "test_dataset, test_labels = remove_dups_in1set(test_dataset,test_labels)\n",
    "train_dataset, train_labels = remove_dups_in1set(train_dataset,train_labels)\n",
    "valid_dataset, valid_labels = remove_dups_in1set(valid_dataset,valid_labels)\n",
    "print('Training set', train_dataset.shape, train_labels.shape)\n",
    "print('Validation set', valid_dataset.shape, valid_labels.shape)\n",
    "print('Test set', test_dataset.shape, test_labels.shape)"
   ]
  },
  {
   "cell_type": "code",
   "execution_count": 13,
   "metadata": {
    "collapsed": false
   },
   "outputs": [
    {
     "name": "stdout",
     "output_type": "stream",
     "text": [
      "Compressed pickle size: 683176521\n"
     ]
    }
   ],
   "source": [
    "# Finally, let's savethe data for later reuse:\n",
    "pickle_file = 'notMNIST.pickle'\n",
    "\n",
    "try:\n",
    "    f = open(pickle_file,'wb')\n",
    "    save = {\n",
    "        'train_dataset': train_dataset,\n",
    "        'train_labels': train_labels,\n",
    "        'valid_dataset': valid_dataset,\n",
    "        'valid_labels': valid_labels,\n",
    "        'test_dataset': test_dataset,\n",
    "        'test_labels': test_labels,\n",
    "    }\n",
    "    pickle.dump(save, f, pickle.HIGHEST_PROTOCOL)\n",
    "    del save  # hint to help gc free up memory\n",
    "except Exception as e:\n",
    "    print('Unable to save data to', pickle_file, \":\", e)\n",
    "    raise\n",
    "    \n",
    "statinfo = os.stat(pickle_file)\n",
    "print('Compressed pickle size:', statinfo.st_size)\n",
    "    "
   ]
  },
  {
   "cell_type": "markdown",
   "metadata": {},
   "source": [
    "## Problem 6\n",
    "Let's get an idea of what an off-the-shelf classifier can give you on this data. It's always good to check that there is something to learn, and that it's a problem that is not so trivial that a canned solution solves it.\n",
    "Train a simple model on this data using 50, 100, 1000 and 5000 training samples. Hint: you can use the LogisticRegression model from sklearn.linear_model.\n",
    "Optional question: train an off-the-shelf model on all the data!"
   ]
  },
  {
   "cell_type": "code",
   "execution_count": 79,
   "metadata": {
    "collapsed": true
   },
   "outputs": [],
   "source": [
    "from sklearn.linear_model import LogisticRegression\n",
    "try:\n",
    "    with open(pickle_file,'rb') as f:\n",
    "        pickle_dict = pickle.load(f)\n",
    "               \n",
    "except Exception as e:\n",
    "    print('Unable to process data from', pickle_file, ':', e)\n",
    "    raise"
   ]
  },
  {
   "cell_type": "code",
   "execution_count": 80,
   "metadata": {
    "collapsed": false
   },
   "outputs": [],
   "source": [
    "X_tr = pickle_dict['train_dataset']\n",
    "y_tr = pickle_dict['train_labels']\n",
    "X_va = pickle_dict['valid_dataset']\n",
    "y_va = pickle_dict['valid_labels']\n",
    "X_te = pickle_dict['test_dataset']\n",
    "y_te = pickle_dict['test_labels']"
   ]
  },
  {
   "cell_type": "code",
   "execution_count": 81,
   "metadata": {
    "collapsed": false
   },
   "outputs": [],
   "source": [
    "#n_features = \n",
    "X_trvec = X_tr.reshape(X_tr.shape[0],X_tr.shape[1]*X_tr.shape[1])\n",
    "X_vavec = X_va.reshape(X_va.shape[0],X_va.shape[1]*X_va.shape[1])\n",
    "X_tevec = X_te.reshape(X_te.shape[0],X_te.shape[1]*X_te.shape[1])\n"
   ]
  },
  {
   "cell_type": "code",
   "execution_count": 82,
   "metadata": {
    "collapsed": false
   },
   "outputs": [],
   "source": [
    "C = 1.0\n",
    "Classifier = LogisticRegression(C=C, penalty='l1')\n"
   ]
  },
  {
   "cell_type": "code",
   "execution_count": 84,
   "metadata": {
    "collapsed": false
   },
   "outputs": [
    {
     "data": {
      "text/plain": [
       "array([3, 5, 4, ..., 8, 9, 6], dtype=int32)"
      ]
     },
     "execution_count": 84,
     "metadata": {},
     "output_type": "execute_result"
    }
   ],
   "source": [
    "y_tr"
   ]
  },
  {
   "cell_type": "code",
   "execution_count": 85,
   "metadata": {
    "collapsed": false
   },
   "outputs": [
    {
     "name": "stdout",
     "output_type": "stream",
     "text": [
      "classif_rate : 83.125000 \n"
     ]
    }
   ],
   "source": [
    "Classifier.fit(X_trvec, y_tr)\n",
    "y_pred = Classifier.predict(X_trvec)\n",
    "classif_rate = np.mean(y_pred.ravel() == y_tr.ravel()) * 100\n",
    "print(\"classif_rate : %f \" % classif_rate)"
   ]
  }
 ],
 "metadata": {
  "kernelspec": {
   "display_name": "Python 2",
   "language": "python",
   "name": "python2"
  },
  "language_info": {
   "codemirror_mode": {
    "name": "ipython",
    "version": 2
   },
   "file_extension": ".py",
   "mimetype": "text/x-python",
   "name": "python",
   "nbconvert_exporter": "python",
   "pygments_lexer": "ipython2",
   "version": "2.7.11"
  }
 },
 "nbformat": 4,
 "nbformat_minor": 0
}
