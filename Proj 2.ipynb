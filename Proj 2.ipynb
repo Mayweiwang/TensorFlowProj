{
 "cells": [
  {
   "cell_type": "markdown",
   "metadata": {},
   "source": [
    "## Deep Learning\n",
    "Assignment 2\n",
    "Previously in 1_notmnist.ipynb, we created a pickle with formatted datasets for training, development and testing on the notMNIST dataset.\n",
    "The goal of this assignment is to progressively train deeper and more accurate models using TensorFlow."
   ]
  },
  {
   "cell_type": "code",
   "execution_count": 5,
   "metadata": {
    "collapsed": false
   },
   "outputs": [
    {
     "name": "stdout",
     "output_type": "stream",
     "text": [
      "Training set (200000, 28, 28) (200000,)\n",
      "Validation set (8933, 28, 28) (8933,)\n",
      "Test set (8639, 28, 28) (8639,)\n",
      "Training set (200000, 784) (200000, 10)\n",
      "Validation set (8933, 784) (8933, 10)\n",
      "Test set (8639, 784) (8639, 10)\n"
     ]
    }
   ],
   "source": [
    "# These are all the modules we'll be using later. Make sure you can import them\n",
    "# before proceeding further.\n",
    "from __future__ import print_function\n",
    "import numpy as np\n",
    "import tensorflow as tf\n",
    "from six.moves import cPickle as pickle\n",
    "from six.moves import range\n",
    "from time import time\n",
    "import math\n",
    "%matplotlib inline\n",
    "\n",
    "# First reload the data we generated in 1_notmnist.ipynb.\n",
    "pickle_file = 'proj1/notMNIST.pickle'\n",
    "\n",
    "with open(pickle_file, 'rb') as f:\n",
    "    save = pickle.load(f)\n",
    "    train_dataset = save['train_dataset']\n",
    "    train_labels = save['train_labels']\n",
    "    valid_dataset = save['valid_dataset']\n",
    "    valid_labels = save['valid_labels']\n",
    "    test_dataset = save['test_dataset']\n",
    "    test_labels = save['test_labels']\n",
    "    del save  # hint to help gc free up memory\n",
    "    print('Training set', train_dataset.shape, train_labels.shape)\n",
    "    print('Validation set', valid_dataset.shape, valid_labels.shape)\n",
    "    print('Test set', test_dataset.shape, test_labels.shape)\n",
    "def accuracy(predictions, labels):\n",
    "    return (100.0 * np.sum(np.argmax(predictions,1) == np.argmax(labels,1))\n",
    "            / predictions.shape[0])\n",
    "\n",
    "image_size = 28\n",
    "num_labels = 10\n",
    "\n",
    "# Reformat into a shape that's more adapted to the models we're going to train:\n",
    "# - data as a flat matrix,\n",
    "# - labels as float 1-hot encodings.\n",
    "def reformat(dataset, labels):\n",
    "    dataset = dataset.reshape((-1, image_size * image_size)).astype(np.float32)\n",
    "    labels = (np.arange(num_labels) == labels[:,None]).astype(np.float32)\n",
    "    return dataset, labels\n",
    "\n",
    "train_dataset, train_labels = reformat(train_dataset, train_labels)\n",
    "valid_dataset, valid_labels = reformat(valid_dataset, valid_labels)\n",
    "test_dataset, test_labels = reformat(test_dataset, test_labels)\n",
    "print('Training set', train_dataset.shape, train_labels.shape)\n",
    "print('Validation set', valid_dataset.shape, valid_labels.shape)\n",
    "print('Test set', test_dataset.shape, test_labels.shape)"
   ]
  },
  {
   "cell_type": "code",
   "execution_count": 6,
   "metadata": {
    "collapsed": false
   },
   "outputs": [],
   "source": [
    "import matplotlib.pyplot as plt\n",
    "\n",
    "def indexed_color(i):\n",
    "    colormap = plt.cm.Set1\n",
    "    x = (i % 9) * 0.99 / 8.0\n",
    "    return colormap(x)\n",
    "\n",
    "def plot_accuracy(accuracy):\n",
    "    _ , ax = plt.subplots(nrows=1, ncols=1)\n",
    "    ymax = accuracy[0,:]\n",
    "    ymin = accuracy[1,:]\n",
    "    ax.set_xlabel(\"epochs\")\n",
    "    ax.set_ylabel(\"accuracy\")\n",
    "    color1 = indexed_color(1)\n",
    "    color2 = indexed_color(2)\n",
    "    color3 = indexed_color(14)\n",
    "    \n",
    "    epochs = np.arange(accuracy.shape[1])\n",
    "    ax.plot(epochs, ymax, color=color3)\n",
    "    ax.plot(epochs, ymin, color=color2)\n",
    "    ax.fill_between(epochs, ymin, ymax, facecolor=color3, alpha=0.25).set_edgecolor(color3)\n",
    "\n",
    "# run training on a list of configurations, each repeated n times\n",
    "# validation accuracie stored in an array of shape=(number_of_replicates, number_of_epochs)\n",
    "\n"
   ]
  },
  {
   "cell_type": "markdown",
   "metadata": {},
   "source": [
    "## We're first going to train a multinomial logistic regression using simple gradient descent.\n",
    "TensorFlow works like this:\n",
    "- First you describe the computation that you want to see performed: what the inputs, the variables, and the operations look like. These get created as nodes over a computation graph. This description is all contained within the block below:\n",
    " - with graph.as_default():\n",
    "    ...\n",
    "- Then you can run the operations on this graph as many times as you want by calling session.run(), providing it outputs to fetch from the graph that get returned. This runtime operation is all contained in the block below:\n",
    " - with tf.Session(graph=graph) as session:\n",
    "    ...\n",
    "Let's load all the data into TensorFlow and build the computation graph corresponding to our training:"
   ]
  },
  {
   "cell_type": "code",
   "execution_count": 7,
   "metadata": {
    "collapsed": false
   },
   "outputs": [
    {
     "name": "stdout",
     "output_type": "stream",
     "text": [
      "Initialized\n",
      "Loss at step 0: 2.289893\n",
      "Training accuracy: 16.0%\n",
      "Validation accuracy: 61.9%\n",
      "Loss at step 100: 0.620543\n",
      "Training accuracy: 84.0%\n",
      "Validation accuracy: 81.0%\n",
      "Loss at step 200: 0.580957\n",
      "Training accuracy: 84.9%\n",
      "Validation accuracy: 81.1%\n",
      "Loss at step 300: 0.558158\n",
      "Training accuracy: 85.7%\n",
      "Validation accuracy: 81.0%\n",
      "Loss at step 400: 0.541844\n",
      "Training accuracy: 86.1%\n",
      "Validation accuracy: 80.8%\n",
      "Loss at step 500: 0.529005\n",
      "Training accuracy: 86.5%\n",
      "Validation accuracy: 80.7%\n",
      "Loss at step 600: 0.518350\n",
      "Training accuracy: 86.7%\n",
      "Validation accuracy: 80.6%\n",
      "Loss at step 700: 0.509206\n",
      "Training accuracy: 86.9%\n",
      "Validation accuracy: 80.4%\n",
      "Loss at step 800: 0.501173\n",
      "Training accuracy: 87.2%\n",
      "Validation accuracy: 80.3%\n",
      "Test accuracy: 87.3%\n"
     ]
    }
   ],
   "source": [
    "# With gradient descent training, even this much data is prohibitive.\n",
    "# Subset the training data for faster turnaround.\n",
    "# LR , no regulation, no dropout, no SGD\n",
    "train_subset = 10000\n",
    "\n",
    "graph = tf.Graph()\n",
    "\n",
    "with graph.as_default():\n",
    "    \n",
    "    # input data.\n",
    "    # Load the training, validation and test data into constants that are\n",
    "    # attached to the graph\n",
    "    \n",
    "    tf_train_dataset = tf.constant(train_dataset[:train_subset,:])\n",
    "    tf_train_labels  = tf.constant(train_labels[:train_subset])\n",
    "    tf_valid_dataset = tf.constant(valid_dataset)\n",
    "    tf_test_dataset = tf.constant(test_dataset)\n",
    "    \n",
    "    # Variables.\n",
    "    # These are the parameters that we are going to be training. The weight\n",
    "    # matrix will be initialized using random values following a (truncated)\n",
    "    # normal distribution. The biases get initialized to zero.\n",
    "    \n",
    "    weights = tf.Variable(\n",
    "       tf.truncated_normal([image_size * image_size, num_labels],\n",
    "                stddev= math.sqrt(2.0/ (image_size * image_size))))\n",
    "    biases = tf.Variable(tf.zeros([num_labels]))\n",
    "    \n",
    "    # Training computation.\n",
    "    # We multiply the inputs with the weight matrix, and add biases. We compute\n",
    "    # the softmax and cross-entropy (it's one operation in TensorFlow, because\n",
    "    # it's very common, and it can be optimized). We take the average of this\n",
    "    # cross-entropy across all training examples: that's our loss.\n",
    "    \n",
    "    logits = tf.matmul(tf_train_dataset, weights) + biases # 10000*784, 784*10\n",
    "    loss = tf.reduce_mean(\n",
    "       tf.nn.softmax_cross_entropy_with_logits(logits, tf_train_labels))\n",
    "    \n",
    "    # Optimizer.\n",
    "    # We are going to find the minimum of this loss using gradient descent.\n",
    "    Optimizer = tf.train.GradientDescentOptimizer(0.5).minimize(loss)\n",
    "\n",
    "    # Predictions for training, validation, and test data.\n",
    "    # These are not part of training, but merely here so that we can report\n",
    "    # accuracy figures as we train.\n",
    "    \n",
    "    train_prediction = tf.nn.softmax(logits)\n",
    "    valid_prediction = tf.nn.softmax(\n",
    "      tf.matmul(tf_valid_dataset, weights) + biases)\n",
    "    test_prediction = tf.nn.softmax(tf.matmul(tf_test_dataset, weights) + biases)\n",
    "\n",
    "# Let's run this computation and iterate\n",
    "num_steps = 801\n",
    "accuracy_epoch = np.zeros([2,num_steps])\n",
    "with tf.Session(graph=graph) as session:\n",
    "    # This is a one-time operation which ensures the parameters get initialized\n",
    "    # as we described in the graph: random weights for the matrix, zeros for the\n",
    "    # biases.\n",
    "    tf.initialize_all_variables().run()\n",
    "    loss_step = np.zeros(num_steps)\n",
    "    print('Initialized')\n",
    "    for step in range(num_steps):\n",
    "        # Run the computations. We tell .run() that we want to run the optimization\n",
    "        # and get the loss value and the training predictions returned as numpy arrays.\n",
    "        _, l, predictions = session.run([Optimizer, loss, train_prediction])\n",
    "        accuracy_epoch[0,step] = accuracy(valid_prediction.eval(), valid_labels)\n",
    "        accuracy_epoch[1,step] = accuracy(test_prediction.eval(), test_labels)\n",
    "        if (step % 100 ==0):\n",
    "            print('Loss at step %d: %f' % (step, l))\n",
    "            print('Training accuracy: %.1f%%' % accuracy(predictions, train_labels[:train_subset,:]))\n",
    "            # Calling .eval() on validation_prediction is basically like calling run(), but\n",
    "            # just to get that one numpy array. Note that it recomputes all its graph\n",
    "            # dependencies.\n",
    "            print('Validation accuracy: %.1f%%' % accuracy(valid_prediction.eval(), valid_labels))\n",
    "            \n",
    "            \n",
    "    print('Test accuracy: %.1f%%' % accuracy(test_prediction.eval(), test_labels))\n",
    "    session.close()"
   ]
  },
  {
   "cell_type": "code",
   "execution_count": 7,
   "metadata": {
    "collapsed": false
   },
   "outputs": [
    {
     "data": {
      "image/png": "[encoded data removed]",
      "text/plain": [
       "<matplotlib.figure.Figure at 0x11d779a50>"
      ]
     },
     "metadata": {},
     "output_type": "display_data"
    }
   ],
   "source": [
    "plot_accuracy(accuracy_epoch)  "
   ]
  },
  {
   "cell_type": "markdown",
   "metadata": {},
   "source": [
    "## Let's now switch to stochastic gradient descent training instead, which is much faster.\n",
    "The graph will be similar, except that instead of holding all the training data into a constant node, we create a Placeholder node which will be fed actual data at every call of session.run()."
   ]
  },
  {
   "cell_type": "code",
   "execution_count": 8,
   "metadata": {
    "collapsed": false
   },
   "outputs": [
    {
     "name": "stdout",
     "output_type": "stream",
     "text": [
      "Initialized\n",
      "Minibatch loss at step 0: 2.384893\n",
      "Minibatch accuracy: 7.0%\n",
      "Validation accuracy: 45.2%\n",
      "Minibatch loss at step 1000: 0.699626\n",
      "Minibatch accuracy: 80.5%\n",
      "Validation accuracy: 81.1%\n",
      "Minibatch loss at step 2000: 0.531953\n",
      "Minibatch accuracy: 89.8%\n",
      "Validation accuracy: 81.0%\n",
      "Minibatch loss at step 3000: 0.652689\n",
      "Minibatch accuracy: 85.9%\n",
      "Validation accuracy: 81.3%\n",
      "Test accuracy: 88.3%\n"
     ]
    }
   ],
   "source": [
    "# LR, with SGD, no regularization, no dropout\n",
    "batch_size = 128\n",
    "LR = 0.5\n",
    "graph = tf.Graph()\n",
    "with graph.as_default():\n",
    "    # Input data. For the training data, we use a placeholder that \n",
    "    # will be fed at run time with a training minibatch.\n",
    "    tf_train_dataset = tf.placeholder(tf.float32, shape = (batch_size, image_size * image_size))\n",
    "    tf_train_labels = tf.placeholder(tf.float32, shape = (batch_size, num_labels))\n",
    "    tf_valid_dataset = tf.constant(valid_dataset)\n",
    "    tf_test_dataset = tf.constant(test_dataset)\n",
    "    \n",
    "    # Variables.\n",
    "    weights = tf.Variable(\n",
    "       tf.truncated_normal([image_size * image_size, num_labels],\n",
    "                           stddev= math.sqrt(2.0/ (image_size * image_size))))\n",
    "    biases = tf.Variable(tf.zeros([num_labels]))\n",
    "    \n",
    "    # Training computation.\n",
    "    logits = tf.matmul(tf_train_dataset, weights) + biases\n",
    "    loss = tf.reduce_mean(\n",
    "       tf.nn.softmax_cross_entropy_with_logits(logits, tf_train_labels))\n",
    "    # Optimizer.\n",
    "    optimizer = tf.train.GradientDescentOptimizer(LR).minimize(loss)\n",
    "    \n",
    "    # Predictions for the training, validation, and test data.\n",
    "    train_prediction = tf.nn.softmax(logits)\n",
    "    valid_prediction = tf.nn.softmax(\n",
    "          tf.matmul(tf_valid_dataset, weights) + biases)\n",
    "    test_prediction = tf.nn.softmax(tf.matmul(tf_test_dataset, weights) + biases)\n",
    "\n",
    "num_steps = 3001\n",
    "accuracy_epoch = np.zeros([2,num_steps])\n",
    "with tf.Session(graph=graph) as session:\n",
    "    tf.initialize_all_variables().run()\n",
    "    print('Initialized')\n",
    "    for step in range(num_steps):\n",
    "        # Pick an offset within the training data, which has been randomized.\n",
    "        # Note: we could use better randomization across epochs.\n",
    "        offset = (step * batch_size) % (train_labels.shape[0]-batch_size)\n",
    "        \n",
    "        # Generate a minibatch.\n",
    "        batch_data = train_dataset[offset:(offset+batch_size),:]\n",
    "        batch_labels = train_labels[offset:(offset+batch_size),:]\n",
    "        \n",
    "        # Prepare a dictionary telling the session where to feed the \n",
    "        # minibatch. The key of the dictionary is the placeholder node of the\n",
    "        # graph to be fed and the value is the numpy array.\n",
    "        \n",
    "        feed_dict = {tf_train_dataset : batch_data, \n",
    "                     tf_train_labels : batch_labels}\n",
    "        _, l, predictions = session.run(\n",
    "                [optimizer, loss, train_prediction], feed_dict=feed_dict)\n",
    "        \n",
    "        accuracy_epoch[0,step] = accuracy(valid_prediction.eval(), valid_labels)\n",
    "        accuracy_epoch[1,step] = accuracy(test_prediction.eval(), test_labels)\n",
    "\n",
    "\n",
    "        if (step % 1000 == 0):\n",
    "            print(\"Minibatch loss at step %d: %f\" % (step, l))\n",
    "            print(\"Minibatch accuracy: %.1f%%\" % accuracy(predictions, batch_labels))\n",
    "            print(\"Validation accuracy: %.1f%%\" % accuracy(\n",
    "                valid_prediction.eval(), valid_labels))\n",
    "        \n",
    "    print(\"Test accuracy: %.1f%%\" % accuracy(test_prediction.eval(), test_labels))\n",
    "    session.close()\n",
    "\n"
   ]
  },
  {
   "cell_type": "code",
   "execution_count": 199,
   "metadata": {
    "collapsed": false
   },
   "outputs": [
    {
     "data": {
      "image/png": "[encoded data removed]",
      "text/plain": [
       "<matplotlib.figure.Figure at 0x125bea310>"
      ]
     },
     "metadata": {},
     "output_type": "display_data"
    }
   ],
   "source": [
    "plot_accuracy(accuracy_epoch)  \n",
    "#accuracy_epoch.shape"
   ]
  },
  {
   "cell_type": "markdown",
   "metadata": {},
   "source": [
    "## Problem\n",
    "Turn the logistic regression example with SGD into a 1-hidden layer neural network with rectified linear units nn.relu() and 1024 hidden nodes. This model should improve your validation / test accuracy.\n"
   ]
  },
  {
   "cell_type": "code",
   "execution_count": 9,
   "metadata": {
    "collapsed": false
   },
   "outputs": [
    {
     "name": "stdout",
     "output_type": "stream",
     "text": [
      "Initialized\n",
      "Minibatch loss at step 0: 2.340827\n",
      "Minibatch accuracy: 7.8%\n",
      "Validation accuracy: 32.6%\n",
      "Minibatch loss at step 500: 0.355731\n",
      "Minibatch accuracy: 90.6%\n",
      "Validation accuracy: 85.1%\n",
      "Minibatch loss at step 1000: 0.538590\n",
      "Minibatch accuracy: 85.2%\n",
      "Validation accuracy: 85.7%\n",
      "Minibatch loss at step 1500: 0.288260\n",
      "Minibatch accuracy: 93.0%\n",
      "Validation accuracy: 86.7%\n",
      "Minibatch loss at step 2000: 0.272758\n",
      "Minibatch accuracy: 93.8%\n",
      "Validation accuracy: 86.7%\n",
      "Minibatch loss at step 2500: 0.323889\n",
      "Minibatch accuracy: 89.1%\n",
      "Validation accuracy: 87.4%\n",
      "Test accuracy: 93.7%\n"
     ]
    }
   ],
   "source": [
    "# NN, 1024 nodes\n",
    "batch_size = 128\n",
    "num_nodes = 1024\n",
    "LR = 0.5\n",
    "graph = tf.Graph()\n",
    "with graph.as_default():\n",
    "    # Input data. For the training data, we use a placeholder that \n",
    "    # will be fed at run time with a training minibatch.\n",
    "    tf_train_dataset = tf.placeholder(tf.float32, shape = (batch_size, image_size * image_size))\n",
    "    tf_train_labels = tf.placeholder(tf.float32, shape = (batch_size, num_labels))\n",
    "    tf_valid_dataset = tf.constant(valid_dataset)\n",
    "    tf_test_dataset = tf.constant(test_dataset)\n",
    "    \n",
    "    # Variables.\n",
    "    weights1 = tf.Variable(\n",
    "       tf.truncated_normal([image_size * image_size, num_nodes],\n",
    "                           stddev= math.sqrt(2.0/ (image_size * image_size))))\n",
    "    biases1 = tf.Variable(tf.zeros([num_nodes]))\n",
    "    weights2 = tf.Variable(\n",
    "       tf.truncated_normal([num_nodes, num_labels],\n",
    "                           stddev= math.sqrt(2.0/ num_nodes)))\n",
    "    biases2 = tf.Variable(tf.zeros([num_labels]))\n",
    "    \n",
    "    # Training computation.\n",
    "    logits1 = tf.matmul(tf_train_dataset, weights1) + biases1\n",
    "    tf_hidden_dataset = tf.nn.relu(logits1)\n",
    "    logits = tf.matmul(tf_hidden_dataset, weights2) + biases2\n",
    "    \n",
    "    loss = tf.reduce_mean(\n",
    "       tf.nn.softmax_cross_entropy_with_logits(logits, tf_train_labels))\n",
    "    # Optimizer.\n",
    "    optimizer = tf.train.GradientDescentOptimizer(LR).minimize(loss)\n",
    "    \n",
    "    # Predictions for the training, validation, and test data.\n",
    "    train_prediction = tf.nn.softmax(logits)\n",
    "    \n",
    "    first_valid = tf.matmul(tf_valid_dataset, weights1) + biases1\n",
    "    logits_valid = tf.matmul(tf.nn.relu(first_valid), weights2) + biases2\n",
    "    valid_prediction = tf.nn.softmax(logits_valid)\n",
    "    \n",
    "    first_test = tf.matmul(tf_test_dataset, weights1) + biases1\n",
    "    logits_test = tf.matmul(tf.nn.relu(first_test), weights2) + biases2\n",
    "    test_prediction = tf.nn.softmax(logits_test)\n",
    "\n",
    "num_steps = 3000\n",
    "accuracy_epoch = np.zeros([2,num_steps])\n",
    "with tf.Session(graph=graph) as session:\n",
    "    tf.initialize_all_variables().run()\n",
    "    print('Initialized')\n",
    "    for step in range(num_steps):\n",
    "        # Pick an offset within the training data, which has been randomized.\n",
    "        # Note: we could use better randomization across epochs.\n",
    "        offset = (step * batch_size) % (train_labels.shape[0]-batch_size)\n",
    "        \n",
    "        # Generate a minibatch.\n",
    "        batch_data = train_dataset[offset:(offset+batch_size),:]\n",
    "        batch_labels = train_labels[offset:(offset+batch_size),:]\n",
    "        \n",
    "        # Prepare a dictionary telling the session where to feed the \n",
    "        # minibatch. The key of the dictionary is the placeholder node of the\n",
    "        # graph to be fed and the value is the numpy array.\n",
    "        \n",
    "        feed_dict = {tf_train_dataset : batch_data, \n",
    "                     tf_train_labels : batch_labels}\n",
    "        _, l, predictions = session.run(\n",
    "                [optimizer, loss, train_prediction], feed_dict=feed_dict)\n",
    "        accuracy_epoch[0,step] = accuracy(valid_prediction.eval(), valid_labels)\n",
    "        accuracy_epoch[1,step] = accuracy(test_prediction.eval(), test_labels)\n",
    "        if (step % 500 == 0):\n",
    "            print(\"Minibatch loss at step %d: %f\" % (step, l))\n",
    "            print(\"Minibatch accuracy: %.1f%%\" % accuracy(predictions, batch_labels))\n",
    "            print(\"Validation accuracy: %.1f%%\" % accuracy(\n",
    "                valid_prediction.eval(), valid_labels))\n",
    "    print(\"Test accuracy: %.1f%%\" % accuracy(test_prediction.eval(), test_labels))\n",
    "    session.close()"
   ]
  },
  {
   "cell_type": "code",
   "execution_count": 186,
   "metadata": {
    "collapsed": false
   },
   "outputs": [
    {
     "data": {
      "image/png": "[encoded data removed]",
      "text/plain": [
       "<matplotlib.figure.Figure at 0x16ef966d0>"
      ]
     },
     "metadata": {},
     "output_type": "display_data"
    }
   ],
   "source": [
    "plot_accuracy(accuracy_epoch)  "
   ]
  },
  {
   "cell_type": "code",
   "execution_count": 11,
   "metadata": {
    "collapsed": false
   },
   "outputs": [
    {
     "name": "stdout",
     "output_type": "stream",
     "text": [
      "classesCount is :  10\n",
      "(10000, 10)\n",
      "Test Accuracy:  89.14 \n",
      "\n"
     ]
    }
   ],
   "source": [
    "import tensorflow as tf\n",
    "import pandas as pd\n",
    "import numpy as np\n",
    "import matplotlib.pyplot as plt\n",
    "import pickle\n",
    "from sklearn import preprocessing  \n",
    "import random \n",
    "import math\n",
    "\n",
    "LR=0.5\n",
    "#trainSubset=10000;\n",
    "epochsCount=3001\n",
    "batchSize=128\n",
    "\n",
    "file = open('proj1/notMNIST_original.pickle','rb')\n",
    "data=pickle.load(file);\n",
    "file.close()\n",
    "\n",
    "\n",
    "classesCount= len(np.unique(data['train_labels']))\n",
    "print('classesCount is : ', classesCount)\n",
    "trainShape= data['train_dataset'].shape\n",
    "validCount= data['valid_dataset'].shape[0]\n",
    "testCount= data['test_dataset'].shape[0]\n",
    "trainCount= trainShape[0]\n",
    "featuresCount= trainShape[1]*trainShape[2]\n",
    "\n",
    "X_train=data['train_dataset'].reshape((-1, featuresCount)).astype(np.float32);\n",
    "y_train=preprocessing.label_binarize(data['train_labels'],range(0, classesCount))\n",
    "X_valid=data['valid_dataset'].reshape((-1, featuresCount)).astype(np.float32);\n",
    "y_valid= preprocessing.label_binarize(data['valid_labels'],range(0, classesCount))\n",
    "X_test=data['test_dataset'].reshape((-1, featuresCount)).astype(np.float32);\n",
    "y_test= preprocessing.label_binarize(data['test_labels'],range(0, classesCount))\n",
    "\n",
    "#X_train= X_train[0:trainSubset,:]\n",
    "#y_train= y_train[0:trainSubset,:]\n",
    "\n",
    "X= tf.placeholder(tf.float32,[None,featuresCount])\n",
    "y= tf.placeholder(tf.float32,[None,classesCount])\n",
    "\n",
    "W= tf.Variable(tf.truncated_normal([featuresCount,classesCount], stddev= math.sqrt(2.0/ featuresCount)))\n",
    "b= tf.Variable(tf.zeros([1,classesCount]))\n",
    "#global_step = tf.Variable(0) \n",
    "#learning_rate = tf.train.exponential_decay(\n",
    "#          0.7,                      # Base learning rate.\n",
    "#          global_step,   # Current index into the dataset.\n",
    "#          trainCount,                # Decay step.\n",
    "#          0.95,                      # Decay rate.\n",
    "#          staircase=True)\n",
    "f=tf.matmul(X,W)+b;\n",
    "F=tf.nn.softmax(f);\n",
    "\n",
    "cost = tf.reduce_mean(tf.nn.softmax_cross_entropy_with_logits(f,y)) ;\n",
    "optimizer = tf.train.GradientDescentOptimizer(LR).minimize(cost);\n",
    "\n",
    "session = tf.Session()\n",
    "session.run(tf.initialize_all_variables())                                                                                                                                                                      \n",
    "\n",
    "for i in range(epochsCount):\n",
    "    offset =(i * batchSize) % (trainCount - batchSize)\n",
    "    batchX = X_train[offset:(offset + batchSize), :]\n",
    "    batchY = y_train[offset:(offset + batchSize), :]\n",
    "    # feed_dict allows the caller to override the values of tensors in the graph          \n",
    "    session.run(optimizer, feed_dict={X: batchX, y: batchY})\n",
    "    #print(learning_rate)    \n",
    "\n",
    "binarizer= preprocessing.LabelBinarizer()\n",
    "binarizer.fit(range(0,10))\n",
    "\n",
    "# Evaluate the tensor `F`.\n",
    "preds = session.run(F, feed_dict={X:X_test});\n",
    "print(preds.shape)\n",
    "testAccuarcy= (binarizer.inverse_transform(preds)==binarizer.inverse_transform(y_test)).mean() * 100\n",
    "session.close()\n",
    "print(\"Test Accuracy: \", testAccuarcy, \"\\n\")"
   ]
  },
  {
   "cell_type": "code",
   "execution_count": null,
   "metadata": {
    "collapsed": true
   },
   "outputs": [],
   "source": []
  }
 ],
 "metadata": {
  "kernelspec": {
   "display_name": "Python 2",
   "language": "python",
   "name": "python2"
  },
  "language_info": {
   "codemirror_mode": {
    "name": "ipython",
    "version": 2
   },
   "file_extension": ".py",
   "mimetype": "text/x-python",
   "name": "python",
   "nbconvert_exporter": "python",
   "pygments_lexer": "ipython2",
   "version": "2.7.11"
  }
 },
 "nbformat": 4,
 "nbformat_minor": 0
}
